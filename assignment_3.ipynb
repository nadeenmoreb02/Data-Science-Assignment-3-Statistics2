{
  "cells": [
    {
      "cell_type": "markdown",
      "source": [
        "Assignment 3🌱\n",
        "\n",
        "Student Name: Nadeen Moreb  \n",
        "\n",
        "\n",
        "Student ID: 1203437"
      ],
      "metadata": {
        "id": "fol2oTQmQ71N"
      },
      "id": "fol2oTQmQ71N"
    },
    {
      "cell_type": "code",
      "source": [
        "import numpy as np\n",
        "\n",
        "#seed\n",
        "np.random.seed(1203437)\n",
        "\n",
        "#generate population data of size of 10 000 000\n",
        "population = np.random.normal(loc=1500, scale=700, size=10000000)\n",
        "\n",
        "# generate samples\n",
        "samples = {}\n",
        "\n",
        "samples[10] = np.random.choice(population, size=10, replace=False)\n",
        "samples[100] = np.random.choice(population, size=100, replace=False)\n",
        "samples[1000] = np.random.choice(population, size=1000, replace=False)\n",
        "samples[10000] = np.random.choice(population, size=10000, replace=False)"
      ],
      "metadata": {
        "id": "-zQJGcuzGFxw"
      },
      "id": "-zQJGcuzGFxw",
      "execution_count": 23,
      "outputs": []
    },
    {
      "cell_type": "markdown",
      "source": [
        "**Relation between sample size and sampling error:**\n",
        "\n",
        "\n",
        "As the size of the sample increases, the sampling error decreases. and this is due to the increased quantum of information of population that larger sample sizes provide, hence, more accurate estimates of population parameters.\n"
      ],
      "metadata": {
        "id": "r_hxUyj_dgam"
      },
      "id": "r_hxUyj_dgam"
    },
    {
      "cell_type": "markdown",
      "source": [
        "**Which sample is more representative of the population? Justify your answer:**\n",
        "\n",
        "\n",
        "The sample size of 10,000 is most representative of the population compared to the other smaller sample sizes. because larger sample sizes can provide more information and are more accurate values distribution thar resembles the entire population."
      ],
      "metadata": {
        "id": "58ayUfx6dqhA"
      },
      "id": "58ayUfx6dqhA"
    },
    {
      "cell_type": "code",
      "source": [
        "# representative sample\n",
        "representativeSample = samples[10000]\n",
        "\n",
        "# Sorted sample using sort method\n",
        "sortedRepSample = np.sort(representativeSample)"
      ],
      "metadata": {
        "id": "9bn6M8iId5qv"
      },
      "id": "9bn6M8iId5qv",
      "execution_count": 24,
      "outputs": []
    },
    {
      "cell_type": "markdown",
      "source": [
        "**a. Is the sample normally distributed? Justify your answer**  \n",
        "\n",
        "1. **first method (first property):** by examining histogram plot and see if it is symmetric or not, the output plot showed that it is symmetrical, hence it indicates that it is symmetric, meaning that 50% of the cases are under the mean value and 50% of the cases are above the mean, hence it is normal."
      ],
      "metadata": {
        "id": "Q70bxI_0nyyJ"
      },
      "id": "Q70bxI_0nyyJ"
    },
    {
      "cell_type": "code",
      "source": [
        "import matplotlib.pyplot as plt\n",
        "\n",
        "# histogram plot of the representative sample\n",
        "plt.hist(representativeSample, bins=50, density=True, alpha=0.6)\n",
        "plt.xlabel('Value')\n",
        "plt.ylabel('Frequency')\n",
        "plt.title('Histogram of Representative Sample')\n",
        "plt.grid(True)\n",
        "plt.show()\n"
      ],
      "metadata": {
        "colab": {
          "base_uri": "https://localhost:8080/",
          "height": 472
        },
        "id": "tH561F8on_OB",
        "outputId": "07bea9c9-72b1-4b97-8975-490afd88ed86"
      },
      "id": "tH561F8on_OB",
      "execution_count": 25,
      "outputs": [
        {
          "output_type": "display_data",
          "data": {
            "text/plain": [
              "<Figure size 640x480 with 1 Axes>"
            ],
            "image/png": "[encoded data removed]"
          },
          "metadata": {}
        }
      ]
    },
    {
      "cell_type": "markdown",
      "source": [
        "**2. second method (second property):** by checking and calculating the skewness of the sample and compare absolute value of skewness to a threshold close to zero, 0.05, to determine if the sample is approximately symmetric.\n",
        "\n"
      ],
      "metadata": {
        "id": "pZ4wfLvWpNHL"
      },
      "id": "pZ4wfLvWpNHL"
    },
    {
      "cell_type": "code",
      "source": [
        "from scipy.stats import skew\n",
        "\n",
        "# skewness value\n",
        "skewness = skew(representativeSample)\n",
        "\n",
        "# Check symmetry using skewness value we calculated previously\n",
        "if abs(skewness) < 0.05:\n",
        "    print(\"The sample is approximately symmetric, hence it is normally distributed\")\n",
        "else:\n",
        "    print(\"The sample may not be symmetric, hence not noramlly distibuted\")\n"
      ],
      "metadata": {
        "colab": {
          "base_uri": "https://localhost:8080/"
        },
        "id": "wOc0VXtApONa",
        "outputId": "dcda049b-c7b9-4b43-bce4-e4517ff26172"
      },
      "id": "wOc0VXtApONa",
      "execution_count": 26,
      "outputs": [
        {
          "output_type": "stream",
          "name": "stdout",
          "text": [
            "The sample is approximately symmetric, hence it is normally distributed\n"
          ]
        }
      ]
    },
    {
      "cell_type": "markdown",
      "source": [
        "**3. third method:** D'Agostino and Pearson's test to calculate p-value.\n",
        "then checks if the p-value is greater than 0.05, a common significance level to assess statistical significance, and if yes, it is said to be normally distributed."
      ],
      "metadata": {
        "id": "W7NDBk69sIiQ"
      },
      "id": "W7NDBk69sIiQ"
    },
    {
      "cell_type": "code",
      "source": [
        "from scipy.stats import normaltest\n",
        "statistic, p_value = normaltest(representativeSample)\n",
        "is_normal = p_value > 0.05\n",
        "if is_normal:\n",
        "    print(\"The sample is normally distributed.\")\n",
        "else:\n",
        "    print(\"The sample is not normally distributed.\")\n"
      ],
      "metadata": {
        "id": "iMwH0lrfsNy_",
        "colab": {
          "base_uri": "https://localhost:8080/"
        },
        "outputId": "6c8c1550-d7ca-4f85-ba51-a7ec157e59df"
      },
      "id": "iMwH0lrfsNy_",
      "execution_count": 27,
      "outputs": [
        {
          "output_type": "stream",
          "name": "stdout",
          "text": [
            "The sample is normally distributed.\n"
          ]
        }
      ]
    },
    {
      "cell_type": "markdown",
      "source": [
        "**b. What is the value that 50% of the data below it?**\n",
        "  I calculate median value\n",
        "\n",
        "**c. What is the value that 75% of the data below it?**\n",
        "I calculate q3 value\n",
        "\n",
        "**d. What is the value that 25% of the data below it?**\n",
        "I calculate q1 value\n",
        "\n",
        "**e. What are the values calculated in b, c, and d statistically called?**\n",
        "These are quartiles values:\n",
        "- median (Q2)\n",
        "- 75th percentile (Q3)\n",
        "- 25th percentile (Q1)."
      ],
      "metadata": {
        "id": "YnppyrozsQE6"
      },
      "id": "YnppyrozsQE6"
    },
    {
      "cell_type": "code",
      "source": [
        "# the value that 50% of the data below it\n",
        "median_value = np.median(sortedRepSample)\n",
        "print(\"The value that 50% of the data below it is:\", median_value)\n",
        "\n",
        "# the value that 75% of the data below it\n",
        "q3_value = np.percentile(sortedRepSample, 75)\n",
        "print(\"The value that 75% of the data below it is:\", q3_value)\n",
        "\n",
        "# the value that 25% of the data below it\n",
        "q1_value = np.percentile(sortedRepSample, 25)\n",
        "print(\"The value that 25% of the data below it is:\", q1_value)\n"
      ],
      "metadata": {
        "id": "347lgK2dsRAa",
        "colab": {
          "base_uri": "https://localhost:8080/"
        },
        "outputId": "689b1ecf-3e35-4b47-b4cb-d0f7f9e1e650"
      },
      "id": "347lgK2dsRAa",
      "execution_count": 28,
      "outputs": [
        {
          "output_type": "stream",
          "name": "stdout",
          "text": [
            "The value that 50% of the data below it is: 1496.2529147757464\n",
            "The value that 75% of the data below it is: 1970.2164296905548\n",
            "The value that 25% of the data below it is: 1025.390340026575\n"
          ]
        }
      ]
    }
  ],
  "metadata": {
    "colab": {
      "provenance": []
    },
    "language_info": {
      "name": "python"
    },
    "kernelspec": {
      "name": "python3",
      "display_name": "Python 3"
    }
  },
  "nbformat": 4,
  "nbformat_minor": 5
}